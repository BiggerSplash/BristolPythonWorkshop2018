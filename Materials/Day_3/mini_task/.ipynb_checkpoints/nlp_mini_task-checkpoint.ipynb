{
 "cells": [
  {
   "cell_type": "markdown",
   "metadata": {},
   "source": [
    "# Natural Language Processing Mini Task"
   ]
  },
  {
   "cell_type": "markdown",
   "metadata": {},
   "source": [
    "**Author:** Ties de Kok ([Personal Website](http://www.tiesdekok.com))  \n",
    "**Last updated:** 15 May 2018  \n",
    "**Python version:** Python 3.6  \n",
    "**License:** MIT License  "
   ]
  },
  {
   "cell_type": "markdown",
   "metadata": {},
   "source": [
    "## *Introduction*"
   ]
  },
  {
   "cell_type": "markdown",
   "metadata": {},
   "source": [
    "In this notebook I will provide you with \"tasks\" that you can try to solve.  \n",
    "\n",
    "Most of what you need is discussed in the tutorial notebooks, the rest you will have to Google (which is an important exercise in itself)."
   ]
  },
  {
   "cell_type": "markdown",
   "metadata": {},
   "source": [
    "## *Relevant notebooks*\n",
    "\n",
    "1) [`0_python_basics.ipynb`](https://nbviewer.jupyter.org/github/TiesdeKok/LearnPythonforResearch/blob/master/0_python_basics.ipynb)  \n",
    "\n",
    "\n",
    "2) [`2_handling_data.ipynb`](https://nbviewer.jupyter.org/github/TiesdeKok/LearnPythonforResearch/blob/master/2_handling_data.ipynb)  \n",
    "\n",
    "\n",
    "3) [`4_web_scraping.ipynb`](https://nbviewer.jupyter.org/github/TiesdeKok/LearnPythonforResearch/blob/master/4_web_scraping.ipynb)  "
   ]
  },
  {
   "cell_type": "markdown",
   "metadata": {},
   "source": [
    "## Web Scraping Mini Task <br> -----------------------------------"
   ]
  },
  {
   "cell_type": "markdown",
   "metadata": {},
   "source": [
    "The goal of this mini-task is to get hands-on experience with gathering data from the Web using `Requests` and `Requests-HTML`."
   ]
  },
  {
   "cell_type": "markdown",
   "metadata": {},
   "source": [
    "The tasks below are split up into three sections:  \n",
    "\n",
    "1. API tasks  \n",
    "\n",
    "2. Web scraping tasks  \n",
    "\n",
    "3. *Extra challenge:* HTTP requests"
   ]
  },
  {
   "cell_type": "markdown",
   "metadata": {},
   "source": [
    "## Import required packages"
   ]
  },
  {
   "cell_type": "code",
   "execution_count": 48,
   "metadata": {},
   "outputs": [],
   "source": [
    "import requests\n",
    "from requests_html import HTMLSession"
   ]
  },
  {
   "cell_type": "markdown",
   "metadata": {},
   "source": [
    "## API Tasks <br> --------------"
   ]
  },
  {
   "cell_type": "markdown",
   "metadata": {},
   "source": [
    "### Retrieve the current price of the \"Dogecoin\" cryptocurrency in Euros"
   ]
  },
  {
   "cell_type": "markdown",
   "metadata": {},
   "source": [
    "You can use the cryptonator API: https://www.cryptonator.com/api"
   ]
  },
  {
   "cell_type": "code",
   "execution_count": 8,
   "metadata": {},
   "outputs": [
    {
     "data": {
      "text/plain": [
       "{'error': '',\n",
       " 'success': True,\n",
       " 'ticker': {'base': 'DOGE',\n",
       "  'change': '0.00000819',\n",
       "  'price': '0.00371951',\n",
       "  'target': 'EUR',\n",
       "  'volume': ''},\n",
       " 'timestamp': 1526492941}"
      ]
     },
     "execution_count": 8,
     "metadata": {},
     "output_type": "execute_result"
    }
   ],
   "source": [
    "requests.get(\"https://api.cryptonator.com/api/ticker/doge-eur\").json()"
   ]
  },
  {
   "cell_type": "markdown",
   "metadata": {},
   "source": [
    "### Follow up: Create a function that retrieves the current price in Euros for a given cryptocurrency \"ticker\""
   ]
  },
  {
   "cell_type": "markdown",
   "metadata": {},
   "source": [
    "Make sure that it can handle invalid tickers and HTTP errors (*hint:* use `.status_code`)"
   ]
  },
  {
   "cell_type": "code",
   "execution_count": 33,
   "metadata": {},
   "outputs": [],
   "source": [
    "def retrieve_crypto_price(ticker):\n",
    "    res = requests.get(\"https://api.cryptonator.com/api/ticker/{}-eur\".format(ticker))\n",
    "    if res.status_code == 200:\n",
    "        res_json = res.json()\n",
    "        if res_json['success']:\n",
    "            return res_json['ticker']['price']\n",
    "        else:\n",
    "            return 'Invalid Ticker'\n",
    "    else:\n",
    "        return 'HTTP Error: {}'.format(res.status_code)"
   ]
  },
  {
   "cell_type": "code",
   "execution_count": 34,
   "metadata": {},
   "outputs": [],
   "source": [
    "res = retrieve_crypto_price('doge')"
   ]
  },
  {
   "cell_type": "markdown",
   "metadata": {
    "collapsed": true
   },
   "source": [
    "### Write a function that takes an artist and song title and returns the lyrics"
   ]
  },
  {
   "cell_type": "markdown",
   "metadata": {},
   "source": [
    "Use this API: http://docs.lyricsovh.apiary.io/#reference/0/lyrics-of-a-song/search"
   ]
  },
  {
   "cell_type": "code",
   "execution_count": 40,
   "metadata": {},
   "outputs": [],
   "source": [
    "def get_lyrics(artist, title):\n",
    "    url = \"https://api.lyrics.ovh/v1/{}/{}\".format(artist, title)\n",
    "    res = requests.get(url)\n",
    "    return res.json()['lyrics']"
   ]
  },
  {
   "cell_type": "code",
   "execution_count": 41,
   "metadata": {},
   "outputs": [
    {
     "name": "stdout",
     "output_type": "stream",
     "text": [
      "Turn your magic on, Umi she'd say\r\n",
      "Everything you want's a dream away\r\n",
      "We are legends, every day\r\n",
      "\n",
      "That's what she told \n"
     ]
    }
   ],
   "source": [
    "print(get_lyrics('Coldplay', 'Adventure of a Lifetime')[:120])"
   ]
  },
  {
   "cell_type": "markdown",
   "metadata": {},
   "source": [
    "### Write a function that guesses the gender based on first name"
   ]
  },
  {
   "cell_type": "markdown",
   "metadata": {},
   "source": [
    "Use this API: https://genderize.io/"
   ]
  },
  {
   "cell_type": "markdown",
   "metadata": {},
   "source": [
    "**NOTE:** it might be that this API is down if you get a \"too many requests message\""
   ]
  },
  {
   "cell_type": "code",
   "execution_count": 42,
   "metadata": {},
   "outputs": [],
   "source": [
    "def guess_gender(name):\n",
    "    base_url = 'https://api.genderize.io/?'\n",
    "    payload = {'name' : name}\n",
    "    res = requests.get(base_url, params=payload)\n",
    "    return res.json()"
   ]
  },
  {
   "cell_type": "code",
   "execution_count": 46,
   "metadata": {},
   "outputs": [
    {
     "data": {
      "text/plain": [
       "{'count': 1, 'gender': 'female', 'name': 'Ties', 'probability': 1}"
      ]
     },
     "execution_count": 46,
     "metadata": {},
     "output_type": "execute_result"
    }
   ],
   "source": [
    "guess_gender('Ties')"
   ]
  },
  {
   "cell_type": "markdown",
   "metadata": {},
   "source": [
    "## Web Scraping Task <br> ----------------------------"
   ]
  },
  {
   "cell_type": "markdown",
   "metadata": {},
   "source": [
    "Your goal is to create a dataset with details for all the University of Bristol faculty and staff. \n",
    "\n",
    "This page serves as the starting point: http://www.bristol.ac.uk/efm/people/allstaff.html"
   ]
  },
  {
   "cell_type": "markdown",
   "metadata": {},
   "source": [
    "Recommendation: use `requests-html`"
   ]
  },
  {
   "cell_type": "markdown",
   "metadata": {},
   "source": [
    "### Step 1: write a function that can extract information from a staff members profile page"
   ]
  },
  {
   "cell_type": "markdown",
   "metadata": {},
   "source": [
    "For example: http://www.bristol.ac.uk/efm/people/mark-a-clatworthy/overview.html"
   ]
  },
  {
   "cell_type": "markdown",
   "metadata": {},
   "source": [
    "Retrieve the following details:  \n",
    "\n",
    "1. URL to profile picture  \n",
    "2. Their departement (based on their departement link)\n",
    "3. Latest publication\n",
    "\n",
    "**Note:** Make sure it can handle people without publications / profile pictures / departement links\n",
    "\n",
    "*Hint 1:* this might be relevant: https://www.w3schools.com/cssref/sel_attribute_value_contains.asp"
   ]
  },
  {
   "cell_type": "code",
   "execution_count": 102,
   "metadata": {},
   "outputs": [],
   "source": [
    "session = HTMLSession()"
   ]
  },
  {
   "cell_type": "code",
   "execution_count": 126,
   "metadata": {},
   "outputs": [],
   "source": [
    "def get_staff_details(url):\n",
    "    res = session.get(url)\n",
    "\n",
    "    profile_img_src_res = res.html.find('#portrait', first=True)\n",
    "    if profile_img_src_res:\n",
    "        profile_img_src = profile_img_src_res.attrs['src']\n",
    "    else:\n",
    "        prifle_img_src = None\n",
    "    \n",
    "    \n",
    "    departement_res = res.html.find('#researcher-summary a[href*=\"bris.ac.uk\"]', first=True)\n",
    "    if departement_res:\n",
    "        departement = departement_res.text\n",
    "    else:\n",
    "        departement = None\n",
    "    \n",
    "    latest_pub_res = res.html.find('#researcher-publications li', first=True)\n",
    "    if latest_pub_res:\n",
    "        latest_pub = latest_pub_res.text\n",
    "    else:\n",
    "        latest_pub = None\n",
    "    \n",
    "    return {'img_url' : profile_img_src,\n",
    "           'department' : departement,\n",
    "           'latest_pub' : latest_pub}"
   ]
  },
  {
   "cell_type": "code",
   "execution_count": 127,
   "metadata": {},
   "outputs": [
    {
     "data": {
      "text/plain": [
       "{'department': 'Department of Accounting and Finance',\n",
       " 'img_url': 'http://dbms.ilrt.bris.ac.uk/media/pure/medium-287091.jpeg',\n",
       " 'latest_pub': \"Clatworthy, M & Lee, E, 2018, \\x91Financial analysts' role in valuation and stewardship: Introduction\\x92. Accounting and Business Research, vol 48., pp. 1-4\"}"
      ]
     },
     "execution_count": 127,
     "metadata": {},
     "output_type": "execute_result"
    }
   ],
   "source": [
    "get_staff_details('http://www.bristol.ac.uk/efm/people/mark-a-clatworthy/overview.html')"
   ]
  },
  {
   "cell_type": "markdown",
   "metadata": {},
   "source": [
    "### Step 2: retrieve a list of all faculty and staff members"
   ]
  },
  {
   "cell_type": "markdown",
   "metadata": {},
   "source": [
    "Save the following details:  \n",
    "1. Name  \n",
    "2. Job title  \n",
    "3. Email  \n",
    "4. Phone number  \n",
    "5. **Link to their page**\n",
    "\n",
    "Recommendation: make sure to end up with a Pandas Dataframe so that you can save it easily to an Excel sheet!"
   ]
  },
  {
   "cell_type": "markdown",
   "metadata": {},
   "source": [
    "*Hint 1:* this might be relevant: https://www.w3schools.com/cssref/sel_attribute_value_contains.asp"
   ]
  },
  {
   "cell_type": "code",
   "execution_count": 49,
   "metadata": {},
   "outputs": [],
   "source": [
    "session = HTMLSession()"
   ]
  },
  {
   "cell_type": "code",
   "execution_count": 51,
   "metadata": {},
   "outputs": [],
   "source": [
    "res = session.get('http://www.bristol.ac.uk/efm/people/allstaff.html')"
   ]
  },
  {
   "cell_type": "code",
   "execution_count": 98,
   "metadata": {},
   "outputs": [],
   "source": [
    "data = []\n",
    "for row in res.html.find('.a-z-staff-table tr'):\n",
    "    row_res = {}\n",
    "    \n",
    "    col_row_name = row.find('a[title*=\"View details\"]', first=True)\n",
    "    if col_row_name:\n",
    "        row_res['href'] = col_row_name.attrs['href']\n",
    "        row_res['name'] = col_row_name.text    \n",
    "    \n",
    "    for column in ['stafftablejob', 'email', 'tel']:\n",
    "        col_row_res = row.find('.{}'.format(column), first=True)\n",
    "        if col_row_res:\n",
    "            row_res[column] = col_row_res.text\n",
    "    \n",
    "    if row_res:\n",
    "        data.append(row_res)"
   ]
  },
  {
   "cell_type": "code",
   "execution_count": 100,
   "metadata": {},
   "outputs": [],
   "source": [
    "bristol_staff_df = pd.DataFrame(data)"
   ]
  },
  {
   "cell_type": "code",
   "execution_count": 101,
   "metadata": {},
   "outputs": [
    {
     "data": {
      "text/html": [
       "<div>\n",
       "<style scoped>\n",
       "    .dataframe tbody tr th:only-of-type {\n",
       "        vertical-align: middle;\n",
       "    }\n",
       "\n",
       "    .dataframe tbody tr th {\n",
       "        vertical-align: top;\n",
       "    }\n",
       "\n",
       "    .dataframe thead th {\n",
       "        text-align: right;\n",
       "    }\n",
       "</style>\n",
       "<table border=\"1\" class=\"dataframe\">\n",
       "  <thead>\n",
       "    <tr style=\"text-align: right;\">\n",
       "      <th></th>\n",
       "      <th>email</th>\n",
       "      <th>href</th>\n",
       "      <th>name</th>\n",
       "      <th>stafftablejob</th>\n",
       "      <th>tel</th>\n",
       "    </tr>\n",
       "  </thead>\n",
       "  <tbody>\n",
       "    <tr>\n",
       "      <th>0</th>\n",
       "      <td>daniella.acker@bristol.ac.uk</td>\n",
       "      <td>/efm/people/daniella-e-acker/overview.html</td>\n",
       "      <td>Professor Daniella Acker</td>\n",
       "      <td>Professor of Finance and Accounting</td>\n",
       "      <td>Tel. (0117) 39 41476</td>\n",
       "    </tr>\n",
       "    <tr>\n",
       "      <th>1</th>\n",
       "      <td>tauheed.ali@bristol.ac.uk</td>\n",
       "      <td>/efm/people/tauheed-ali/overview.html</td>\n",
       "      <td>Miss Tauheed Ali</td>\n",
       "      <td>Teaching Associate</td>\n",
       "      <td>Tel. (0117) 42 82236</td>\n",
       "    </tr>\n",
       "    <tr>\n",
       "      <th>2</th>\n",
       "      <td>sophie.amor@bristol.ac.uk</td>\n",
       "      <td>/efm/people/sophie-amor/overview.html</td>\n",
       "      <td>Miss Sophie Amor</td>\n",
       "      <td>Postgraduate Admissions Administrator</td>\n",
       "      <td>Tel. (0117) 39 41487</td>\n",
       "    </tr>\n",
       "    <tr>\n",
       "      <th>3</th>\n",
       "      <td>ra14611@bristol.ac.uk</td>\n",
       "      <td>/efm/people/rutvica-andrijasevic/overview.html</td>\n",
       "      <td>Dr Rutvica Andrijasevic</td>\n",
       "      <td>Senior Lecturer in Management</td>\n",
       "      <td>Tel. (0117) 954 6905</td>\n",
       "    </tr>\n",
       "    <tr>\n",
       "      <th>4</th>\n",
       "      <td>d.andronoudis@bristol.ac.uk</td>\n",
       "      <td>/efm/people/dimos-andronoudis/overview.html</td>\n",
       "      <td>Dr Dimos Andronoudis</td>\n",
       "      <td>Lecturer in Accounting</td>\n",
       "      <td>Tel. (0117) 39 41504</td>\n",
       "    </tr>\n",
       "  </tbody>\n",
       "</table>\n",
       "</div>"
      ],
      "text/plain": [
       "                          email  \\\n",
       "0  daniella.acker@bristol.ac.uk   \n",
       "1     tauheed.ali@bristol.ac.uk   \n",
       "2     sophie.amor@bristol.ac.uk   \n",
       "3         ra14611@bristol.ac.uk   \n",
       "4   d.andronoudis@bristol.ac.uk   \n",
       "\n",
       "                                             href                      name  \\\n",
       "0      /efm/people/daniella-e-acker/overview.html  Professor Daniella Acker   \n",
       "1           /efm/people/tauheed-ali/overview.html          Miss Tauheed Ali   \n",
       "2           /efm/people/sophie-amor/overview.html          Miss Sophie Amor   \n",
       "3  /efm/people/rutvica-andrijasevic/overview.html   Dr Rutvica Andrijasevic   \n",
       "4     /efm/people/dimos-andronoudis/overview.html      Dr Dimos Andronoudis   \n",
       "\n",
       "                           stafftablejob                   tel  \n",
       "0    Professor of Finance and Accounting  Tel. (0117) 39 41476  \n",
       "1                     Teaching Associate  Tel. (0117) 42 82236  \n",
       "2  Postgraduate Admissions Administrator  Tel. (0117) 39 41487  \n",
       "3          Senior Lecturer in Management  Tel. (0117) 954 6905  \n",
       "4                 Lecturer in Accounting  Tel. (0117) 39 41504  "
      ]
     },
     "execution_count": 101,
     "metadata": {},
     "output_type": "execute_result"
    }
   ],
   "source": [
    "bristol_staff_df.head()"
   ]
  },
  {
   "cell_type": "markdown",
   "metadata": {},
   "source": [
    "## Step 3: run the function from step 1 on all the urls gathered in step 2"
   ]
  },
  {
   "cell_type": "markdown",
   "metadata": {},
   "source": [
    "**Note:** if it takes a long time to run you can also just run it on a small subset of the data from step 2."
   ]
  },
  {
   "cell_type": "code",
   "execution_count": 130,
   "metadata": {},
   "outputs": [],
   "source": [
    "staff_details = []\n",
    "for href in bristol_staff_df.href:\n",
    "    detail_res = get_staff_details('http://www.bristol.ac.uk/' + href)\n",
    "    detail_res['href'] = href\n",
    "    staff_details.append(detail_res)"
   ]
  },
  {
   "cell_type": "markdown",
   "metadata": {},
   "source": [
    "#### Bonus task:\n",
    "\n",
    "Add the details to the initial dataframe that you created in Step 2"
   ]
  },
  {
   "cell_type": "code",
   "execution_count": 131,
   "metadata": {},
   "outputs": [],
   "source": [
    "staff_details_df = pd.DataFrame(staff_details)"
   ]
  },
  {
   "cell_type": "code",
   "execution_count": 135,
   "metadata": {},
   "outputs": [],
   "source": [
    "bristol_staff_df = pd.merge(bristol_staff_df, staff_details_df, on='href', how='left')"
   ]
  },
  {
   "cell_type": "code",
   "execution_count": 136,
   "metadata": {},
   "outputs": [
    {
     "data": {
      "text/html": [
       "<div>\n",
       "<style scoped>\n",
       "    .dataframe tbody tr th:only-of-type {\n",
       "        vertical-align: middle;\n",
       "    }\n",
       "\n",
       "    .dataframe tbody tr th {\n",
       "        vertical-align: top;\n",
       "    }\n",
       "\n",
       "    .dataframe thead th {\n",
       "        text-align: right;\n",
       "    }\n",
       "</style>\n",
       "<table border=\"1\" class=\"dataframe\">\n",
       "  <thead>\n",
       "    <tr style=\"text-align: right;\">\n",
       "      <th></th>\n",
       "      <th>email</th>\n",
       "      <th>href</th>\n",
       "      <th>name</th>\n",
       "      <th>stafftablejob</th>\n",
       "      <th>tel</th>\n",
       "      <th>department</th>\n",
       "      <th>img_url</th>\n",
       "      <th>latest_pub</th>\n",
       "    </tr>\n",
       "  </thead>\n",
       "  <tbody>\n",
       "    <tr>\n",
       "      <th>0</th>\n",
       "      <td>daniella.acker@bristol.ac.uk</td>\n",
       "      <td>/efm/people/daniella-e-acker/overview.html</td>\n",
       "      <td>Professor Daniella Acker</td>\n",
       "      <td>Professor of Finance and Accounting</td>\n",
       "      <td>Tel. (0117) 39 41476</td>\n",
       "      <td>Department of Accounting and Finance</td>\n",
       "      <td>http://dbms.ilrt.bris.ac.uk/media/pure/medium-...</td>\n",
       "      <td>Acker, D, Orujov, A &amp; Simpson, H, 2018, Polit...</td>\n",
       "    </tr>\n",
       "    <tr>\n",
       "      <th>1</th>\n",
       "      <td>tauheed.ali@bristol.ac.uk</td>\n",
       "      <td>/efm/people/tauheed-ali/overview.html</td>\n",
       "      <td>Miss Tauheed Ali</td>\n",
       "      <td>Teaching Associate</td>\n",
       "      <td>Tel. (0117) 42 82236</td>\n",
       "      <td>Department of Accounting and Finance</td>\n",
       "      <td>http://dbms.ilrt.bris.ac.uk/media/user/260011/...</td>\n",
       "      <td>None</td>\n",
       "    </tr>\n",
       "    <tr>\n",
       "      <th>2</th>\n",
       "      <td>sophie.amor@bristol.ac.uk</td>\n",
       "      <td>/efm/people/sophie-amor/overview.html</td>\n",
       "      <td>Miss Sophie Amor</td>\n",
       "      <td>Postgraduate Admissions Administrator</td>\n",
       "      <td>Tel. (0117) 39 41487</td>\n",
       "      <td>Faculty Student Administration</td>\n",
       "      <td>http://dbms.ilrt.bris.ac.uk/media/images/photo...</td>\n",
       "      <td>None</td>\n",
       "    </tr>\n",
       "    <tr>\n",
       "      <th>3</th>\n",
       "      <td>ra14611@bristol.ac.uk</td>\n",
       "      <td>/efm/people/rutvica-andrijasevic/overview.html</td>\n",
       "      <td>Dr Rutvica Andrijasevic</td>\n",
       "      <td>Senior Lecturer in Management</td>\n",
       "      <td>Tel. (0117) 954 6905</td>\n",
       "      <td>Department of Management</td>\n",
       "      <td>http://dbms.ilrt.bris.ac.uk/media/pure/medium-...</td>\n",
       "      <td>Andrijasevic, R &amp; Sacchetto, D, 2017, 'Disapp...</td>\n",
       "    </tr>\n",
       "    <tr>\n",
       "      <th>4</th>\n",
       "      <td>d.andronoudis@bristol.ac.uk</td>\n",
       "      <td>/efm/people/dimos-andronoudis/overview.html</td>\n",
       "      <td>Dr Dimos Andronoudis</td>\n",
       "      <td>Lecturer in Accounting</td>\n",
       "      <td>Tel. (0117) 39 41504</td>\n",
       "      <td>Department of Accounting and Finance</td>\n",
       "      <td>http://dbms.ilrt.bris.ac.uk/media/pure/medium-...</td>\n",
       "      <td>None</td>\n",
       "    </tr>\n",
       "  </tbody>\n",
       "</table>\n",
       "</div>"
      ],
      "text/plain": [
       "                          email  \\\n",
       "0  daniella.acker@bristol.ac.uk   \n",
       "1     tauheed.ali@bristol.ac.uk   \n",
       "2     sophie.amor@bristol.ac.uk   \n",
       "3         ra14611@bristol.ac.uk   \n",
       "4   d.andronoudis@bristol.ac.uk   \n",
       "\n",
       "                                             href                      name  \\\n",
       "0      /efm/people/daniella-e-acker/overview.html  Professor Daniella Acker   \n",
       "1           /efm/people/tauheed-ali/overview.html          Miss Tauheed Ali   \n",
       "2           /efm/people/sophie-amor/overview.html          Miss Sophie Amor   \n",
       "3  /efm/people/rutvica-andrijasevic/overview.html   Dr Rutvica Andrijasevic   \n",
       "4     /efm/people/dimos-andronoudis/overview.html      Dr Dimos Andronoudis   \n",
       "\n",
       "                           stafftablejob                   tel  \\\n",
       "0    Professor of Finance and Accounting  Tel. (0117) 39 41476   \n",
       "1                     Teaching Associate  Tel. (0117) 42 82236   \n",
       "2  Postgraduate Admissions Administrator  Tel. (0117) 39 41487   \n",
       "3          Senior Lecturer in Management  Tel. (0117) 954 6905   \n",
       "4                 Lecturer in Accounting  Tel. (0117) 39 41504   \n",
       "\n",
       "                             department  \\\n",
       "0  Department of Accounting and Finance   \n",
       "1  Department of Accounting and Finance   \n",
       "2        Faculty Student Administration   \n",
       "3              Department of Management   \n",
       "4  Department of Accounting and Finance   \n",
       "\n",
       "                                             img_url  \\\n",
       "0  http://dbms.ilrt.bris.ac.uk/media/pure/medium-...   \n",
       "1  http://dbms.ilrt.bris.ac.uk/media/user/260011/...   \n",
       "2  http://dbms.ilrt.bris.ac.uk/media/images/photo...   \n",
       "3  http://dbms.ilrt.bris.ac.uk/media/pure/medium-...   \n",
       "4  http://dbms.ilrt.bris.ac.uk/media/pure/medium-...   \n",
       "\n",
       "                                          latest_pub  \n",
       "0  Acker, D, Orujov, A & Simpson, H, 2018, Polit...  \n",
       "1                                               None  \n",
       "2                                               None  \n",
       "3  Andrijasevic, R & Sacchetto, D, 2017, 'Disapp...  \n",
       "4                                               None  "
      ]
     },
     "execution_count": 136,
     "metadata": {},
     "output_type": "execute_result"
    }
   ],
   "source": [
    "bristol_staff_df.head()"
   ]
  },
  {
   "cell_type": "markdown",
   "metadata": {},
   "source": [
    "## Extra Challenge Task <br> --------------------------------"
   ]
  },
  {
   "cell_type": "markdown",
   "metadata": {},
   "source": [
    "The Bristol city council has a \"Neighbourhood-search\":\n",
    "\n",
    "https://www.bristol.gov.uk/my-neighbourhood-search"
   ]
  },
  {
   "cell_type": "markdown",
   "metadata": {},
   "source": [
    "Try if you can create a function that takes a string and returns the points of interest at that string.  \n",
    "\n",
    "Hint: look for words like \"api\" or \"rest\" in the results of the `NetworkSniffer` Chrome extension. "
   ]
  },
  {
   "cell_type": "code",
   "execution_count": 132,
   "metadata": {},
   "outputs": [],
   "source": [
    "api_endpoint = 'https://maps.bristol.gov.uk/csw_ac/Address.svc/rest/ADDRESS/SEARCH/TEXTUAL/{}/'"
   ]
  },
  {
   "cell_type": "code",
   "execution_count": 141,
   "metadata": {},
   "outputs": [],
   "source": [
    "res = requests.get(api_endpoint.format('University of Bristol'))"
   ]
  },
  {
   "cell_type": "code",
   "execution_count": 143,
   "metadata": {},
   "outputs": [
    {
     "data": {
      "text/plain": [
       "{'ADDRESS': 'University Of Bristol, Bristol Royal Infirmary, Marlborough Street',\n",
       " 'LOCALITY': 'City Centre',\n",
       " 'POSTCODE': 'BS2 8HW',\n",
       " 'UPRN': '000000367623'}"
      ]
     },
     "execution_count": 143,
     "metadata": {},
     "output_type": "execute_result"
    }
   ],
   "source": [
    "res.json()['Matches'][0]"
   ]
  }
 ],
 "metadata": {
  "kernelspec": {
   "display_name": "Python 3",
   "language": "python",
   "name": "python3"
  },
  "language_info": {
   "codemirror_mode": {
    "name": "ipython",
    "version": 3
   },
   "file_extension": ".py",
   "mimetype": "text/x-python",
   "name": "python",
   "nbconvert_exporter": "python",
   "pygments_lexer": "ipython3",
   "version": "3.6.4"
  }
 },
 "nbformat": 4,
 "nbformat_minor": 1
}

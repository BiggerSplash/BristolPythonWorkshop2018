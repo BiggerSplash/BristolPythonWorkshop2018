{
 "cells": [
  {
   "cell_type": "markdown",
   "metadata": {},
   "source": [
    "# text mining assignment (rfa)"
   ]
  },
  {
   "cell_type": "markdown",
   "metadata": {},
   "source": [
    "**Instructors:** Ties de Kok and Stephan Hollander  \n",
    "**Course:** Research Financial Accounting (RFA) @ Tilburg University  \n",
    "**Year:** 2017   \n"
   ]
  },
  {
   "cell_type": "markdown",
   "metadata": {},
   "source": [
    "## Student details  \n",
    "Please fill in the details below:"
   ]
  },
  {
   "cell_type": "markdown",
   "metadata": {},
   "source": [
    "**Student name:** ----  \n",
    "**School:** ----   \n",
    "**Email address:** ----   \n",
    "**RFA for credit:** (yes/no)"
   ]
  },
  {
   "cell_type": "markdown",
   "metadata": {},
   "source": [
    "## Assignment introduction"
   ]
  },
  {
   "cell_type": "markdown",
   "metadata": {},
   "source": [
    "The goal of this assignment is to get hands-on experience with Python for NLP purposes.  \n",
    "\n",
    "---------------------------------------------------\n",
    "\n",
    "The first part of the assignment consists of two required tasks:  \n",
    "\n",
    "**Task 1)** Following Garcia and Norli (2012), extract state name counts from MD&As to assess geographic dispersion  \n",
    "\n",
    "**Task 2)** Create a sentiment score for MD&As based on the Loughran and McDonald (2011) word lists  \n",
    "\n",
    "---------------------------------------------------\n",
    "\n",
    "The second part of the assignment is an **optional** bonus task which enables you to earn extra points:  \n",
    "\n",
    "**Bonus task 3)** Combine task 1 and 2, evaluate the sentiment score relating to state name references\n",
    "\n",
    "---------------------------------------------------\n",
    "This assignment will be assessed on two aspects:  \n",
    "\n",
    "1. Technical execution  (i.e. quality of your code)  \n",
    "2. Critical exploration  (i.e. degree to which you critically evaluate the quality of the output for research purposes) \n",
    "\n",
    "---------------------------------------------------\n",
    "**Note: regarding the `critical exploration` aspect it is very important that you show in the notebook that you are trying to verify your output and that you try to improve the quality of your output.**"
   ]
  },
  {
   "cell_type": "markdown",
   "metadata": {},
   "source": [
    "### References  \n",
    "\n",
    "Garcia, D., & Norli, Ø. (2012). Geographic dispersion and stock returns. Journal of Financial Economics, 106(3), 547-565.  \n",
    "Loughran, T., & McDonald, B. (2011). When is a liability not a liability? Textual analysis, dictionaries, and 10‐Ks. The Journal of Finance, 66(1), 35-65."
   ]
  },
  {
   "cell_type": "markdown",
   "metadata": {},
   "source": [
    "## Data description"
   ]
  },
  {
   "cell_type": "markdown",
   "metadata": {},
   "source": [
    "**Data that you need to use:**\n",
    "\n",
    "The input data is a random selection of pre-processed MDA filings. The text data for each MDA is saved in the `MDA_files` folder, the filename is the unique identifier.\n",
    "\n",
    "The meta data (filing date, cik, company name, and link to filing) is stored in the `MDA_META_DF.xlsx` file.\n",
    "\n",
    "Manual inspection of the data is encouraged, to download the data to your own computer for inspection use this link:  \n",
    "https://drive.google.com/file/d/1norrSezIE_RrfH2JJ6XRPLQcBEC3CihA/view?usp=sharing"
   ]
  },
  {
   "cell_type": "markdown",
   "metadata": {},
   "source": [
    "## First steps"
   ]
  },
  {
   "cell_type": "markdown",
   "metadata": {},
   "source": [
    "### Load data"
   ]
  },
  {
   "cell_type": "code",
   "execution_count": null,
   "metadata": {
    "collapsed": true
   },
   "outputs": [],
   "source": []
  },
  {
   "cell_type": "markdown",
   "metadata": {},
   "source": [
    "### Clean and pre-process data"
   ]
  },
  {
   "cell_type": "code",
   "execution_count": null,
   "metadata": {
    "collapsed": true
   },
   "outputs": [],
   "source": []
  },
  {
   "cell_type": "markdown",
   "metadata": {},
   "source": [
    "## Task 1: Extract state name counts"
   ]
  },
  {
   "cell_type": "markdown",
   "metadata": {},
   "source": [
    "`<Detailed description of task 1> Closely following Garcia and Norli 2012, count the number of times each MD&A in MDA_data.xlsx mentions a U.S. state name. Create the following two tables: [Table 1.1] tabulating, per MD&A, the number of times 0, .., N a U.S. state name is mentioned; [Table 2] report by U.S. state name the following statistics: minimum, maximum, mean, median, standard deviation of times the state name is mentioned in the sample.`\n",
    "\n",
    "**NOTE: a `table` in this context is a `Pandas.DataFrame`**"
   ]
  },
  {
   "cell_type": "code",
   "execution_count": null,
   "metadata": {
    "collapsed": true
   },
   "outputs": [],
   "source": []
  },
  {
   "cell_type": "markdown",
   "metadata": {},
   "source": [
    "## Task 2: Create sentiment score"
   ]
  },
  {
   "cell_type": "markdown",
   "metadata": {},
   "source": [
    "`<Detailed description of task 2> Closely following Loughran and McDonald 2011, for each MD&A in MDA_data.xlsx, count the number of times a tone word from Loughran and McDonald's dictionary (see URL below) is mentioned. Then, for each MD&A, calculate the total negative and total positive tone words mentioned. Tabulate this in a table [Table 2.1], together with the total number of words used in the MD&A. Note: to identify words, use any of the tokenizers mention in the NLP tutorial files. Also tabulate the top and bottom 20 tone words, separately for negative and positive words, used in MD&As [Table 2.2].`  \n",
    "\n",
    "**NOTE: a `table` in this context is a `Pandas.DataFrame`**\n",
    "\n",
    "Link to word list data:   \n",
    "https://www3.nd.edu/~mcdonald/Word_Lists.html  \n",
    "https://www3.nd.edu/~mcdonald/Word_Lists_files/LoughranMcDonald_MasterDictionary_2014.xlsx  \n",
    "https://www3.nd.edu/~mcdonald/Word_Lists_files/Documentation/Documentation_LoughranMcDonald_MasterDictionary.pdf  "
   ]
  },
  {
   "cell_type": "code",
   "execution_count": null,
   "metadata": {
    "collapsed": true
   },
   "outputs": [],
   "source": []
  },
  {
   "cell_type": "markdown",
   "metadata": {},
   "source": [
    "## Bonus task 3: Sentiment score relating to state name references"
   ]
  },
  {
   "cell_type": "markdown",
   "metadata": {},
   "source": [
    "`<Detailed description of task 3> Count only tone words if the positive or negative word is used within +/- 20 words from a U.S. state name. Create a table [Table 3] reporting, for each MD&A, the total number of positive (separate column) and negative words (separate column) used, measured as described above, by U.S. state name. Note: the first (last) row for each MD&A should report the U.S. state name with the highest (lowest) frequency of negative words. `\n",
    "\n",
    "**NOTE: a `table` in this context is a `Pandas.DataFrame`**"
   ]
  },
  {
   "cell_type": "code",
   "execution_count": null,
   "metadata": {
    "collapsed": true
   },
   "outputs": [],
   "source": []
  }
 ],
 "metadata": {
  "anaconda-cloud": {},
  "kernelspec": {
   "display_name": "Python 3",
   "language": "python",
   "name": "python3"
  },
  "language_info": {
   "codemirror_mode": {
    "name": "ipython",
    "version": 3
   },
   "file_extension": ".py",
   "mimetype": "text/x-python",
   "name": "python",
   "nbconvert_exporter": "python",
   "pygments_lexer": "ipython3",
   "version": "3.6.4"
  }
 },
 "nbformat": 4,
 "nbformat_minor": 2
}
